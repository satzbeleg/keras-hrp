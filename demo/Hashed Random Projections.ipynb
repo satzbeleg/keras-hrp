{
 "cells": [
  {
   "cell_type": "code",
   "execution_count": 1,
   "id": "414dbad4-cdc1-4c28-a94d-df49d9f03202",
   "metadata": {},
   "outputs": [],
   "source": [
    "%load_ext autoreload\n",
    "%autoreload 2"
   ]
  },
  {
   "cell_type": "code",
   "execution_count": 2,
   "id": "3cfc3a28-2350-4fb9-b397-69b5c647ff94",
   "metadata": {},
   "outputs": [],
   "source": [
    "import sys\n",
    "sys.path.append('..')"
   ]
  },
  {
   "cell_type": "code",
   "execution_count": 3,
   "id": "21c651ff-85d6-48ae-979c-d4c2f1fee66b",
   "metadata": {},
   "outputs": [],
   "source": [
    "import keras_hrp as khrp\n",
    "import tensorflow as tf\n",
    "import numpy as np"
   ]
  },
  {
   "cell_type": "markdown",
   "id": "ccc88af2-3645-4775-b186-452540a1ab24",
   "metadata": {},
   "source": [
    "## Prototyping with numpy\n",
    "Given the random hyperplane $W_{hyper} \\in \\mathbb{R}^{n \\times m}$, \n",
    "an input vector $x \\in \\mathbb{R}^{n}$, and an activation function $h(.)$ to compute hashes or resp. a binary representation $b \\in \\mathbb{B}^{m}$.\n",
    "\n",
    "$$\n",
    "h(z) = \n",
    "\\begin{cases}\n",
    "  \\text{True}  & \\text{if } z > 0 \\\\\n",
    "  \\text{False} & \\text{else}\n",
    "\\end{cases}\n",
    "\\\\\n",
    "b = h\\left(x \\cdot W_{hyper} \\right)\n",
    "$$\n"
   ]
  },
  {
   "cell_type": "code",
   "execution_count": 4,
   "id": "47c9438f-689c-4b22-91cb-ea041ca357ba",
   "metadata": {},
   "outputs": [
    {
     "name": "stdout",
     "output_type": "stream",
     "text": [
      "hyperplane: (64, 1024)\n",
      "[1 0 1 ... 1 0 0]\n"
     ]
    }
   ],
   "source": [
    "NUM_FEATURES = 64\n",
    "OUTPUT_SIZE = 1024\n",
    "\n",
    "# input\n",
    "np.random.seed(42)\n",
    "x = np.random.randn(NUM_FEATURES)\n",
    "\n",
    "# random hyperplane\n",
    "hyperplane = np.random.randn(NUM_FEATURES, OUTPUT_SIZE)\n",
    "print(f\"hyperplane: {hyperplane.shape}\")\n",
    "\n",
    "# the projection 'x*hyperplane'\n",
    "projection = np.dot(x, hyperplane)\n",
    "\n",
    "# The hash function\n",
    "hashvalues = np.heaviside(projection, 0).astype(int)  # what we do\n",
    "print(hashvalues)"
   ]
  },
  {
   "cell_type": "markdown",
   "id": "22b584ec-c952-42be-ae6a-d7b71702b169",
   "metadata": {},
   "source": [
    "## The `HashedRandomProjection` class\n",
    "The above code is equivalent to a non-trainable `Dense` layer and a heaviside `Lambda` layer in Keras, e.g.\n",
    "\n",
    "```py\n",
    "import tensorflow as tf\n",
    "model = tf.keras.Sequential([\n",
    "    tf.keras.layers.Dense(OUTPUT_SIZE, trainable=False),\n",
    "    tf.keras.layers.Lambda(lambda x: tf.experimental.numpy.heaviside(x))\n",
    "])\n",
    "```\n",
    "\n",
    "We implemented it as Keras layer `HashedRandomProjection`."
   ]
  },
  {
   "cell_type": "code",
   "execution_count": 5,
   "id": "c1fef22f-2278-407f-ac94-0debd9878ffd",
   "metadata": {},
   "outputs": [
    {
     "name": "stderr",
     "output_type": "stream",
     "text": [
      "2022-06-30 12:29:45.943295: I tensorflow/core/platform/cpu_feature_guard.cc:193] This TensorFlow binary is optimized with oneAPI Deep Neural Network Library (oneDNN) to use the following CPU instructions in performance-critical operations:  AVX2 FMA\n",
      "To enable them in other operations, rebuild TensorFlow with the appropriate compiler flags.\n"
     ]
    },
    {
     "data": {
      "text/plain": [
       "True"
      ]
     },
     "execution_count": 5,
     "metadata": {},
     "output_type": "execute_result"
    }
   ],
   "source": [
    "# same input as in previous chapter\n",
    "x2 = tf.convert_to_tensor([x])\n",
    "\n",
    "# same hyperplane as specified in previous chapter\n",
    "layer = khrp.HashedRandomProjection(hyperplane=hyperplane)\n",
    "hashvalues2 = layer(x2)\n",
    "\n",
    "# is the result the same?\n",
    "(hashvalues2[0].numpy() == hashvalues).all()"
   ]
  },
  {
   "cell_type": "markdown",
   "id": "b1359c18-a369-431c-875c-e15e5a41f1ce",
   "metadata": {},
   "source": [
    "## Serialize Boolean List to Integer List\n",
    "In some cases it is better 1x `int8` instead of 8x `bool`.\n",
    "For example Python itself stores 1x `bool` as 8bit integer."
   ]
  },
  {
   "cell_type": "code",
   "execution_count": 6,
   "id": "dcb4eb80-dc94-4a37-b5fb-de37bb58ee47",
   "metadata": {},
   "outputs": [
    {
     "name": "stdout",
     "output_type": "stream",
     "text": [
      "number of integer numbers: 128\n"
     ]
    },
    {
     "data": {
      "text/plain": [
       "array([ -88, -117,   15,  -79,   42,  -84,  -49,  -99,   81, -118,  -57,\n",
       "        -47,   -8,  126,  -79,  -10, -117,  -16,  -42,   24, -118,  121,\n",
       "        -24,  124,   -4,   12,   30,    0, -112,  100,   48,   14,   38,\n",
       "        -54,  -19,   13,   17,  106,   12,   53,   29,   97,   97,   30,\n",
       "        -28, -105,  -30,  -74,  -59,  115,  -12,  -31,   -7,   19,  -52,\n",
       "         76,   78,  -94,  -15,   23,   58, -104,  116,  -29,   96,  121,\n",
       "        -78,   46,   39,   92,  -92, -122, -114, -115, -106, -124,   24,\n",
       "        -73,  -73,  -83,  -23,   43,    6,  -33,  -37,    2,   88,    0,\n",
       "         61,  -72,   62,  -77,   12,  -61,  -46,   99,   64, -105,   82,\n",
       "         31,   46,   56,  -47,   55,  -95,  -58,   98,  102,  -76,    4,\n",
       "         92,   42,  -83,   29,   94,  -66,   23,   64,  109,   -6,  -43,\n",
       "        -40,   51,  -89,   99,  120,  -81, -124], dtype=int8)"
      ]
     },
     "execution_count": 6,
     "metadata": {},
     "output_type": "execute_result"
    }
   ],
   "source": [
    "serialized = khrp.bool_to_int8( hashvalues2.numpy().astype(bool) )\n",
    "\n",
    "print(f\"number of integer numbers: {len(serialized)}\")\n",
    "serialized"
   ]
  },
  {
   "cell_type": "markdown",
   "id": "66831715-0d62-4c1b-b2cf-68d958fd44fb",
   "metadata": {},
   "source": [
    "And transforming it back:"
   ]
  },
  {
   "cell_type": "code",
   "execution_count": 7,
   "id": "8e8ff647-fb7c-421c-af1c-51e9e90d50b6",
   "metadata": {},
   "outputs": [
    {
     "data": {
      "text/plain": [
       "True"
      ]
     },
     "execution_count": 7,
     "metadata": {},
     "output_type": "execute_result"
    }
   ],
   "source": [
    "hashvalues3 = khrp.int8_to_bool( serialized )\n",
    "\n",
    "(hashvalues2[0].numpy() == hashvalues3).all()"
   ]
  }
 ],
 "metadata": {
  "kernelspec": {
   "display_name": "Python 3 (ipykernel)",
   "language": "python",
   "name": "python3"
  },
  "language_info": {
   "codemirror_mode": {
    "name": "ipython",
    "version": 3
   },
   "file_extension": ".py",
   "mimetype": "text/x-python",
   "name": "python",
   "nbconvert_exporter": "python",
   "pygments_lexer": "ipython3",
   "version": "3.7.9"
  }
 },
 "nbformat": 4,
 "nbformat_minor": 5
}
